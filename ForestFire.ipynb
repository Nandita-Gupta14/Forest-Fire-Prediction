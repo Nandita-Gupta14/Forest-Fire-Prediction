{
  "nbformat": 4,
  "nbformat_minor": 0,
  "metadata": {
    "colab": {
      "name": "ForestFire.ipynb",
      "provenance": [],
      "collapsed_sections": []
    },
    "kernelspec": {
      "name": "python3",
      "display_name": "Python 3"
    }
  },
  "cells": [
    {
      "cell_type": "markdown",
      "metadata": {
        "id": "PWPVkvO-HE9I",
        "colab_type": "text"
      },
      "source": [
        "\n",
        "### Forest Fire Prediction using SVR, Random Forest, and Deep Neural Networks\n",
        "Data Available at: http://archive.ics.uci.edu/ml/datasets/Forest+Fires\n",
        "\n",
        "X - x-axis spatial coordinate within the Montesinho park map: 1 to 9\n",
        "\n",
        "Y - y-axis spatial coordinate within the Montesinho park map: 2 to 9\n",
        "\n",
        "month - month of the year: \"jan\" to \"dec\"\n",
        "\n",
        "day - day of the week: \"mon\" to \"sun\"\n",
        "\n",
        "FFMC - FFMC index from the FWI system: 18.7 to 96.20\n",
        "\n",
        "DMC - DMC index from the FWI system: 1.1 to 291.3\n",
        "\n",
        "DC - DC index from the FWI system: 7.9 to 860.6\n",
        "\n",
        "ISI - ISI index from the FWI system: 0.0 to 56.10\n",
        "\n",
        "temp - temperature in Celsius degrees: 2.2 to 33.30\n",
        "\n",
        "RH - relative humidity in %: 15.0 to 100\n",
        "\n",
        "wind - wind speed in km/h: 0.40 to 9.40\n",
        "\n",
        "rain - outside rain in mm/m2 : 0.0 to 6.4\n",
        "\n",
        "area - the burned area of the forest (in ha): 0.00 to 1090.84\n"
      ]
    },
    {
      "cell_type": "code",
      "metadata": {
        "id": "PnjP1EoYHF97",
        "colab_type": "code",
        "colab": {}
      },
      "source": [
        "import warnings\n",
        "warnings.filterwarnings(\"ignore\")"
      ],
      "execution_count": null,
      "outputs": []
    },
    {
      "cell_type": "code",
      "metadata": {
        "id": "Lmgp6uqGHxqc",
        "colab_type": "code",
        "colab": {}
      },
      "source": [
        "import numpy as np\n",
        "import pandas as pd\n",
        "import matplotlib.pyplot as plt\n",
        "from sklearn.model_selection import train_test_split\n",
        "from sklearn.preprocessing import OneHotEncoder\n",
        "from sklearn.preprocessing import LabelEncoder\n",
        "from sklearn.svm import SVR\n",
        "from sklearn.preprocessing import StandardScaler\n",
        "from sklearn.model_selection import GridSearchCV\n",
        "%matplotlib inline\n",
        "plt.style.use('default')"
      ],
      "execution_count": null,
      "outputs": []
    },
    {
      "cell_type": "code",
      "metadata": {
        "id": "-FLt6M0oIAJF",
        "colab_type": "code",
        "colab": {}
      },
      "source": [
        "df = pd.read_csv('/content/drive/My Drive/ForestFires/forestfires.csv')"
      ],
      "execution_count": null,
      "outputs": []
    },
    {
      "cell_type": "code",
      "metadata": {
        "id": "vMpT9BzJI768",
        "colab_type": "code",
        "colab": {}
      },
      "source": [
        "df.head()"
      ],
      "execution_count": null,
      "outputs": []
    },
    {
      "cell_type": "code",
      "metadata": {
        "id": "6YzDCaFtI_bG",
        "colab_type": "code",
        "colab": {}
      },
      "source": [
        "df.describe()"
      ],
      "execution_count": null,
      "outputs": []
    },
    {
      "cell_type": "code",
      "metadata": {
        "id": "usm15GR0JGCa",
        "colab_type": "code",
        "colab": {}
      },
      "source": [
        "df['Log-area'] = np.log10(df['area']+1)\n",
        "for i in df.describe().columns[:-2]:\n",
        "  df.plot.scatter(i,'Log-area',grid = True)"
      ],
      "execution_count": null,
      "outputs": []
    },
    {
      "cell_type": "code",
      "metadata": {
        "id": "DBuUhfz9JZT8",
        "colab_type": "code",
        "colab": {}
      },
      "source": [
        "df.boxplot(column = 'Log-area', by = 'day')"
      ],
      "execution_count": null,
      "outputs": []
    },
    {
      "cell_type": "code",
      "metadata": {
        "id": "FVv3iP1eK2l8",
        "colab_type": "code",
        "colab": {}
      },
      "source": [
        "df.boxplot(column = 'Log-area', by = 'month')"
      ],
      "execution_count": null,
      "outputs": []
    },
    {
      "cell_type": "code",
      "metadata": {
        "id": "DexwG4DXK9OG",
        "colab_type": "code",
        "colab": {}
      },
      "source": [
        "enc = LabelEncoder()\n",
        "enc.fit(df['month'])"
      ],
      "execution_count": null,
      "outputs": []
    },
    {
      "cell_type": "code",
      "metadata": {
        "id": "pfbPd6_ELhor",
        "colab_type": "code",
        "colab": {}
      },
      "source": [
        "enc.classes_"
      ],
      "execution_count": null,
      "outputs": []
    },
    {
      "cell_type": "code",
      "metadata": {
        "id": "UQ9edkp7Ljuv",
        "colab_type": "code",
        "colab": {}
      },
      "source": [
        "df['month_encoded'] = enc.transform(df['month'])\n",
        "df.head()"
      ],
      "execution_count": null,
      "outputs": []
    },
    {
      "cell_type": "code",
      "metadata": {
        "id": "hcKPViBqLvfJ",
        "colab_type": "code",
        "colab": {}
      },
      "source": [
        "enc.fit(df['day'])"
      ],
      "execution_count": null,
      "outputs": []
    },
    {
      "cell_type": "code",
      "metadata": {
        "id": "xhikFCQ5OyJH",
        "colab_type": "code",
        "colab": {}
      },
      "source": [
        "enc.classes_"
      ],
      "execution_count": null,
      "outputs": []
    },
    {
      "cell_type": "code",
      "metadata": {
        "id": "bUHKszmBO1dg",
        "colab_type": "code",
        "colab": {}
      },
      "source": [
        "df['day_encoded'] = enc.transform(df['day'])\n",
        "df.head()"
      ],
      "execution_count": null,
      "outputs": []
    },
    {
      "cell_type": "code",
      "metadata": {
        "id": "XKLLWXwsPF7p",
        "colab_type": "code",
        "colab": {}
      },
      "source": [
        "test_size =0.4 "
      ],
      "execution_count": null,
      "outputs": []
    },
    {
      "cell_type": "code",
      "metadata": {
        "id": "z7fSc3iyPVSB",
        "colab_type": "code",
        "colab": {}
      },
      "source": [
        "X_data = df.drop(['area','Log-area','month','day'],axis = 1)\n",
        "y_data = df['Log-area']\n",
        "X_train, X_test, y_train, y_test = train_test_split(X_data,y_data, test_size = test_size , )"
      ],
      "execution_count": null,
      "outputs": []
    },
    {
      "cell_type": "code",
      "metadata": {
        "id": "Wxh4ve9QPo-o",
        "colab_type": "code",
        "colab": {}
      },
      "source": [
        "def rec (m,n,tol):\n",
        "  if type(m) != 'numpy.ndarray':\n",
        "    m=np.array(m)\n",
        "  if type(n) != 'numpy.ndarray':\n",
        "    n= np.array(n)\n",
        "  l = m.size\n",
        "  percent = 0\n",
        "  for i in range(l):\n",
        "    if np.abs(10**m[i] - 10**n[i]) <= tot:\n",
        "      percent +=1\n",
        "  return 100*(percent/l)"
      ],
      "execution_count": null,
      "outputs": []
    },
    {
      "cell_type": "code",
      "metadata": {
        "id": "vyfoIoLuThW4",
        "colab_type": "code",
        "colab": {}
      },
      "source": [
        "# Define the max tolerance limit for REC curve x-axis\n",
        "# For this problem this represents the absolute value of error in the prediction of the outcome i.e. area burned\n",
        "tol_max=20"
      ],
      "execution_count": null,
      "outputs": []
    },
    {
      "cell_type": "code",
      "metadata": {
        "id": "TWRe4fG8Tv5M",
        "colab_type": "code",
        "colab": {}
      },
      "source": [
        "scaler = StandardScaler()"
      ],
      "execution_count": null,
      "outputs": []
    },
    {
      "cell_type": "code",
      "metadata": {
        "id": "NA0q9fS_ez1Y",
        "colab_type": "code",
        "colab": {}
      },
      "source": [
        "param_grid = {'C': [0.01,0.1,1, 10], 'epsilon': [10,1,0.1,0.01,0.001,0.0001], 'kernel': ['rbf']}"
      ],
      "execution_count": null,
      "outputs": []
    },
    {
      "cell_type": "code",
      "metadata": {
        "id": "RWgmE6ZEe48Y",
        "colab_type": "code",
        "colab": {}
      },
      "source": [
        "grid_SVR = GridSearchCV(SVR(),param_grid,refit=True,verbose=0,cv=5)\n",
        "grid_SVR.fit(scaler.fit_transform(X_train),scaler.fit_transform(y_train))"
      ],
      "execution_count": null,
      "outputs": []
    },
    {
      "cell_type": "code",
      "metadata": {
        "id": "rW_ZLg9gff9i",
        "colab_type": "code",
        "colab": {}
      },
      "source": [
        "grid_SVR.best_params_"
      ],
      "execution_count": null,
      "outputs": []
    },
    {
      "cell_type": "code",
      "metadata": {
        "id": "MtPCG4xSfvis",
        "colab_type": "code",
        "colab": {}
      },
      "source": [
        "a=grid_SVR.predict(X_test)\n",
        "print(\"RMSE for Support Vector Regression:\",np.sqrt(np.mean((y_test-a)**2)))"
      ],
      "execution_count": null,
      "outputs": []
    },
    {
      "cell_type": "code",
      "metadata": {
        "id": "5uC7paPRiqE4",
        "colab_type": "code",
        "colab": {}
      },
      "source": [
        "plt.xlabel(\"Actual area burned\")\n",
        "plt.ylabel(\"Error\")\n",
        "plt.grid(True)\n",
        "plt.scatter(10**(y_test),10**(a)-10**(y_test))"
      ],
      "execution_count": null,
      "outputs": []
    },
    {
      "cell_type": "code",
      "metadata": {
        "id": "tkIFLLwYi1PV",
        "colab_type": "code",
        "colab": {}
      },
      "source": [
        "\n",
        "plt.title(\"Histogram of prediction errors\\n\",fontsize=18)\n",
        "plt.xlabel(\"Prediction error ($ha$)\",fontsize=14)\n",
        "plt.grid(True)\n",
        "plt.hist(10**(a.reshape(a.size,))-10**(y_test),bins=50)"
      ],
      "execution_count": null,
      "outputs": []
    },
    {
      "cell_type": "code",
      "metadata": {
        "id": "HbpEdRtZi4OL",
        "colab_type": "code",
        "colab": {}
      },
      "source": [
        "rec_SVR=[]\n",
        "for i in range(tol_max):\n",
        "    rec_SVR.append(rec(a,y_test,i))\n",
        "\n",
        "plt.figure(figsize=(5,5))\n",
        "plt.title(\"REC curve for the Support Vector Regressor\\n\",fontsize=15)\n",
        "plt.xlabel(\"Absolute error (tolerance) in prediction ($ha$)\")\n",
        "plt.ylabel(\"Percentage of correct prediction\")\n",
        "plt.xticks([i*5 for i in range(tol_max+1)])\n",
        "plt.ylim(-10,100)\n",
        "plt.yticks([i*20 for i in range(6)])\n",
        "plt.grid(True)\n",
        "plt.plot(range(tol_max),rec_SVR)"
      ],
      "execution_count": null,
      "outputs": []
    },
    {
      "cell_type": "code",
      "metadata": {
        "id": "BRdFse7hi-Ex",
        "colab_type": "code",
        "colab": {}
      },
      "source": [
        ""
      ],
      "execution_count": null,
      "outputs": []
    }
  ]
}